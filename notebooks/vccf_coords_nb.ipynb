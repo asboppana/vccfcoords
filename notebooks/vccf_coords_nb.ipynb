{
 "cells": [
  {
   "cell_type": "code",
   "execution_count": 61,
   "metadata": {},
   "outputs": [
    {
     "data": {
      "text/plain": [
       "<module 'vccfcoords.solvers' from '/workspaces/vccfcoords/vccfcoords/solvers.py'>"
      ]
     },
     "execution_count": 61,
     "metadata": {},
     "output_type": "execute_result"
    }
   ],
   "source": [
    "%config IPCompleter.use_jedi=False\n",
    "\n",
    "import numpy as np\n",
    "import pandas as pd\n",
    "from scipy.spatial import distance\n",
    "from matplotlib import pyplot as plt\n",
    "import seaborn as sns\n",
    "import vccfcoords\n",
    "from vccfcoords import simulation\n",
    "from vccfcoords import utils\n",
    "from vccfcoords import solvers\n",
    "import math\n",
    "import localization as lx\n",
    "import os, sys\n",
    "from typing import Dict, Any, Tuple, List, Union, Set\n",
    "import hashlib\n",
    "import json\n",
    "from importlib import reload\n",
    "from tqdm import tqdm\n",
    "reload(vccfcoords.simulation)\n",
    "reload(vccfcoords.utils)\n",
    "reload(vccfcoords.solvers)"
   ]
  },
  {
   "cell_type": "code",
   "execution_count": 53,
   "metadata": {},
   "outputs": [],
   "source": [
    "testing = simulation.Simulation(n_EC = 20, \n",
    "                                n_OC = 20, \n",
    "                                n_dim = 2,\n",
    "                                coord_min = -2, \n",
    "                                coord_max = 2, \n",
    "                                n_ref = 12,\n",
    "                                seed = 9,\n",
    "                                solver_type=\"geom\",\n",
    "                                coord_noise_amplitude=0.0000001,\n",
    "                                dist_noise_amplitude=0.000001,\n",
    "                                error_type=\"avg_dist_norm_closest\")"
   ]
  },
  {
   "cell_type": "code",
   "execution_count": 60,
   "metadata": {},
   "outputs": [],
   "source": [
    "testing1 = simulation.TieredSimulation(n_EC = 1000, \n",
    "                                       n_OC = 10000, \n",
    "                                       n_dim = 3,\n",
    "                                       coord_min = -2, \n",
    "                                       coord_max = 2, \n",
    "                                       n_ref = 12,\n",
    "                                       seed = 9,\n",
    "                                       solver_type=\"opt\",\n",
    "                                       coord_noise_amplitude=0,\n",
    "                                       dist_noise_amplitude=0.1,\n",
    "                                       error_type=\"avg_dist_norm_closest\",\n",
    "                                       n_percent_EC_unknown = 0.30)"
   ]
  },
  {
   "cell_type": "code",
   "execution_count": 59,
   "metadata": {},
   "outputs": [
    {
     "data": {
      "text/plain": [
       "{'seed': 9,\n",
       " 'n_EC': 1000,\n",
       " 'n_percent_EC_unknown': 0.3,\n",
       " 'n_OC': 10000,\n",
       " 'n_dim': 3,\n",
       " 'n_ref': 12,\n",
       " 'coord_min': -2,\n",
       " 'coord_max': 2,\n",
       " 'coord_noise_amplitude': 0,\n",
       " 'dist_noise_amplitude': 0,\n",
       " 'solver_type': 'opt',\n",
       " 'error_type': 'avg_dist_norm_closest',\n",
       " 'error': 1.44587289456459e-15}"
      ]
     },
     "execution_count": 59,
     "metadata": {},
     "output_type": "execute_result"
    }
   ],
   "source": [
    "testing1.get_simulation_dict()"
   ]
  },
  {
   "cell_type": "code",
   "execution_count": 37,
   "metadata": {},
   "outputs": [
    {
     "data": {
      "text/plain": [
       "1.9224257180322527e-05"
      ]
     },
     "execution_count": 37,
     "metadata": {},
     "output_type": "execute_result"
    }
   ],
   "source": [
    "testing.error"
   ]
  },
  {
   "cell_type": "code",
   "execution_count": 166,
   "metadata": {},
   "outputs": [],
   "source": [
    "test1 = testing.sim_coordinates(50,3, 0, 1)\n",
    "test = np.random.choice(list(range(50)), 50, replace=False)\n",
    "test2 = np.repeat(np.array(list(range(10))), repeats = 5)\n",
    "test3 = list(zip(test2,test))"
   ]
  },
  {
   "cell_type": "code",
   "execution_count": 2,
   "metadata": {},
   "outputs": [
    {
     "name": "stdout",
     "output_type": "stream",
     "text": [
      "[[-3.9767762  -0.49137944  2.9764349 ]\n",
      " [-4.2011125   4.32536936  1.87714204]\n",
      " [-2.66644789 -3.03017556  0.93597328]\n",
      " [ 0.26069705 -2.62790414 -0.37978428]\n",
      " [-1.42126795 -3.5231409   2.38898443]]\n",
      "(-3.976776202504399, -0.49137944076325624, 2.9764348970480445)\n"
     ]
    }
   ],
   "source": [
    "testing_solver = simulation.sim_coordinates(5, 3, -5,5)\n",
    "print(testing_solver)\n",
    "distances = [utils.get_euclid_dist(testing_solver[0],x) for x in testing_solver[1:]]\n",
    "computed_coords = solvers.geom_3D_solver(distances, testing_solver[1:])\n",
    "print(computed_coords)"
   ]
  },
  {
   "cell_type": "code",
   "execution_count": 53,
   "metadata": {},
   "outputs": [],
   "source": [
    "def check_lse_2d_sign():\n",
    "    n_checks = 10000\n",
    "\n",
    "    euclid_error = []\n",
    "    for i in range(n_checks):\n",
    "        sim_points = simulation.sim_coordinates(8, 2, -5,5)\n",
    "        distances = [utils.get_euclid_dist(sim_points[0],x) for x in sim_points[1:]]\n",
    "        x,y = solvers.opt_lse_2D_solver(distances, sim_points[1:])\n",
    "\n",
    "        #assert(np.sign(x) == np.sign(sim_points[0][0]))\n",
    "        #assert(np.sign(y) == np.sign(sim_points[0][1]))\n",
    "\n",
    "        euclid_error.append(utils.get_euclid_dist((x,y), tuple(sim_points[0])))\n",
    "    \n",
    "    return np.mean(euclid_error)"
   ]
  },
  {
   "cell_type": "code",
   "execution_count": 82,
   "metadata": {},
   "outputs": [],
   "source": [
    "def check_lse_3D_sign():\n",
    "    n_checks = 10000\n",
    "\n",
    "    euclid_error = []\n",
    "    for i in range(n_checks):\n",
    "        sim_points = simulation.sim_coordinates(9, 3, -5,5)\n",
    "        distances = [utils.get_euclid_dist(sim_points[0],x) for x in sim_points[1:]]\n",
    "        x,y,z = solvers.opt_lse_3D_solver(distances, sim_points[1:])\n",
    "\n",
    "        assert(np.sign(x) == np.sign(sim_points[0][0]))\n",
    "        assert(np.sign(y) == np.sign(sim_points[0][1]))\n",
    "\n",
    "        euclid_error.append(utils.get_euclid_dist((x,y,z), tuple(sim_points[0])))\n",
    "    \n",
    "    return np.mean(euclid_error)"
   ]
  },
  {
   "cell_type": "code",
   "execution_count": 83,
   "metadata": {},
   "outputs": [
    {
     "data": {
      "text/plain": [
       "1.0047984086562821e-15"
      ]
     },
     "execution_count": 83,
     "metadata": {},
     "output_type": "execute_result"
    }
   ],
   "source": [
    "check_lse_3D_sign()"
   ]
  },
  {
   "cell_type": "code",
   "execution_count": 26,
   "metadata": {},
   "outputs": [
    {
     "data": {
      "text/plain": [
       "3.253756813633929e-14"
      ]
     },
     "execution_count": 26,
     "metadata": {},
     "output_type": "execute_result"
    }
   ],
   "source": [
    "check_2d_sign()"
   ]
  },
  {
   "cell_type": "code",
   "execution_count": 27,
   "metadata": {},
   "outputs": [],
   "source": [
    "def check_2d_sign():\n",
    "    n_checks = 1000\n",
    "\n",
    "    euclid_error = []\n",
    "    for i in range(n_checks):\n",
    "        sim_points = simulation.sim_coordinates(4, 2, -5,5)\n",
    "        distances = [utils.get_euclid_dist(sim_points[0],x) for x in sim_points[1:]]\n",
    "        x,y = solvers.geom_2D_solver(distances, sim_points[1:])\n",
    "\n",
    "        assert(np.sign(x) == np.sign(sim_points[0][0]))\n",
    "        assert(np.sign(y) == np.sign(sim_points[0][1]))\n",
    "\n",
    "        euclid_error.append(utils.get_euclid_dist((x,y), tuple(sim_points[0])))\n",
    "    \n",
    "    return np.mean(euclid_error)\n",
    "\n",
    "def check_3d_sign():\n",
    "    n_checks = 1000\n",
    "\n",
    "    euclid_error = []\n",
    "    for i in range(n_checks):\n",
    "        sim_points = simulation.sim_coordinates(5, 3, -5,5)\n",
    "\n",
    "\n",
    "        distances = [utils.get_euclid_dist(sim_points[0],x) for x in sim_points[1:]]\n",
    "        x,y,z = solvers.geom_3D_solver(distances, sim_points[1:])\n",
    "\n",
    "        assert(np.sign(x) == np.sign(sim_points[0][0]))\n",
    "        assert(np.sign(y) == np.sign(sim_points[0][1]))\n",
    "        assert(np.sign(z) == np.sign(sim_points[0][2]))\n",
    "\n",
    "        euclid_error.append(utils.get_euclid_dist((x,y,z), tuple(sim_points[0])))\n",
    "\n",
    "    \n",
    "    return np.mean(euclid_error)\n",
    "\n",
    "#print(check_2d_sign())\n",
    "#print(check_3d_sign())"
   ]
  },
  {
   "cell_type": "code",
   "execution_count": 22,
   "metadata": {},
   "outputs": [
    {
     "data": {
      "image/png": "[encoded data removed]",
      "text/plain": [
       "<Figure size 640x480 with 1 Axes>"
      ]
     },
     "metadata": {},
     "output_type": "display_data"
    }
   ],
   "source": [
    "test_coords = simulation.sim_coordinates(10, 3, 0,1)\n",
    "test_closet_points = simulation.get_closest_points(test, (0,0,0), 5)\n",
    "utils.plot_coordinates(test_coords, 2)\n"
   ]
  },
  {
   "cell_type": "code",
   "execution_count": 14,
   "metadata": {},
   "outputs": [],
   "source": [
    "class HiddenPrints:\n",
    "    def __enter__(self):\n",
    "        self._original_stdout = sys.stdout\n",
    "        sys.stdout = open(os.devnull, 'w')\n",
    "\n",
    "    def __exit__(self, exc_type, exc_val, exc_tb):\n",
    "        sys.stdout.close()\n",
    "        sys.stdout = self._original_stdout\n",
    "\n",
    "def estimate_coord(coords, distances):\n",
    "    \n",
    "    dim = coords.shape[1]\n",
    "    dim_str = str(dim) + \"D\"\n",
    "\n",
    "    state = lx.Project(mode=dim_str,solver='LSE')\n",
    "\n",
    "    for coord_idx in range(len(coords)):\n",
    "        state.add_anchor(str(coord_idx), tuple(coords[coord_idx]))\n",
    "    \n",
    "    unknown_cell, unkown_cell_label= state.add_target()\n",
    "\n",
    "    for dist_idx in range(len(distances)):\n",
    "        unknown_cell.add_measure(str(dist_idx),distances[dist_idx])\n",
    "\n",
    "    with HiddenPrints():\n",
    "        state.solve()\n",
    "\n",
    "    computed_coord = None\n",
    "\n",
    "    if dim == 2:\n",
    "        computed_coord = np.array((unknown_cell.loc.x, unknown_cell.loc.y))\n",
    "    else:\n",
    "        computed_coord = np.array((unknown_cell.loc.x, unknown_cell.loc.y, unknown_cell.loc.z))\n",
    "\n",
    "    return computed_coord\n",
    "\n",
    "\n",
    "def estimate_coords(EC_coords, closest_cells_dict):\n",
    "\n",
    "    COORD_IDX = 0\n",
    "    DIST_IDX = 1\n",
    "\n",
    "    computed_coords = dict()\n",
    "\n",
    "    for key,val in closest_cells_dict.items():\n",
    "        reference_coords = EC_coords[val[COORD_IDX]]\n",
    "        reference_dists = val[DIST_IDX]\n",
    "\n",
    "        computed_coord = estimate_coord(reference_coords, reference_dists)\n",
    "\n",
    "        computed_coords[key] = computed_coord\n",
    "\n",
    "    return computed_coords\n",
    "\n",
    "def get_avg_dist_error(true_coords, pred_coords_dict):\n",
    "\n",
    "    dist_error = [get_euclid_dist(true_coords[x], pred_coords_dict[x]) for x in pred_coords_dict]\n",
    "\n",
    "    return np.mean(dist_error)\n",
    "\n",
    "def run_simulation(n_EC,\n",
    "                   n_other_cells,\n",
    "                   n_dim,\n",
    "                   n_closest,\n",
    "                   coord_min,\n",
    "                   coord_max,\n",
    "                   seed):\n",
    "    \n",
    "    COORD_IDX = 0\n",
    "    DIST_IDX = 1\n",
    "\n",
    "    np.random.seed(seed)\n",
    "    \n",
    "    #Generating Coordinates\n",
    "    EC_coords = sim_coordinates(n_EC, n_dim, coord_min, coord_max)\n",
    "    other_cell_coords = sim_coordinates(n_other_cells, n_dim, coord_min, coord_max)\n",
    "\n",
    "    simulated_coords_hash = hash(np.vstack((EC_coords, other_cell_coords)).tobytes())\n",
    "\n",
    "    n_closest_list = n_closest if isinstance(n_closest, list) else [n_closest]\n",
    "\n",
    "    closest_EC_cells_dict = {x:get_closest_points(EC_coords,other_cell_coords[x], n_other_cells) for x in list(range(len(other_cell_coords)))}\n",
    "\n",
    "    avg_dist_error_list = []\n",
    "\n",
    "    #Using Multilateration engine to estimate coordinates given distances to endothelial cells\n",
    "    for n_closest_num in n_closest_list:\n",
    "        closest_EC_cells_dict_subset = {x:(y[COORD_IDX][:n_closest_num],y[DIST_IDX][:n_closest_num]) for x,y in closest_EC_cells_dict.items()}\n",
    "        computed_coords = estimate_coords(EC_coords, closest_EC_cells_dict_subset)\n",
    "        avg_dist_error = get_avg_dist_error(other_cell_coords, computed_coords)\n",
    "\n",
    "        avg_dist_error_list.append(avg_dist_error)\n",
    "\n",
    "    experiment_dict_list = []\n",
    "\n",
    "    for x,y in zip(n_closest_list, avg_dist_error_list):\n",
    "        experiment_dict = dict()\n",
    "        experiment_dict[\"seed\"] = seed\n",
    "        experiment_dict[\"simulated_coords_hash\"] = simulated_coords_hash\n",
    "        experiment_dict[\"n_EC\"] = n_EC\n",
    "        experiment_dict[\"n_other_cells\"] = n_other_cells\n",
    "        experiment_dict[\"n_dim\"] = n_dim\n",
    "        experiment_dict[\"coord_min\"] = coord_min\n",
    "        experiment_dict[\"coord_max\"] = coord_max\n",
    "        experiment_dict[\"n_closest\"] = x\n",
    "        experiment_dict[\"avg_dist_error\"] = y\n",
    "\n",
    "        experiment_dict_list.append(experiment_dict)\n",
    "\n",
    "    return experiment_dict_list"
   ]
  },
  {
   "cell_type": "code",
   "execution_count": 40,
   "metadata": {},
   "outputs": [
    {
     "name": "stderr",
     "output_type": "stream",
     "text": [
      "100%|██████████| 10/10 [35:59<00:00, 215.98s/it]\n"
     ]
    }
   ],
   "source": [
    "resp = [run_simulation(n_EC=1000,\n",
    "               n_other_cells=10000,\n",
    "               n_dim=3,\n",
    "               n_closest=[2,3,4,5,6,7,8,9,10],\n",
    "               coord_min = -1,\n",
    "               coord_max = 1,\n",
    "               seed = x) for x in tqdm(list(range(10)))]"
   ]
  },
  {
   "cell_type": "code",
   "execution_count": 44,
   "metadata": {},
   "outputs": [],
   "source": [
    "large_run_df = pd.concat([pd.DataFrame(x)for x in resp], axis = 0)"
   ]
  },
  {
   "cell_type": "code",
   "execution_count": 84,
   "metadata": {},
   "outputs": [
    {
     "data": {
      "text/plain": [
       "Text(0.5, 1.0, 'Error Between Simulated And Estimated \\nCoords of Non-EC Cells\\n\\n 10 runs per bar, 1k EC cells, 10k Non-EC cells, \\nCoords Range: [-1,1], 3 dimensions, 35 min runtime')"
      ]
     },
     "execution_count": 84,
     "metadata": {},
     "output_type": "execute_result"
    },
    {
     "data": {
      "image/png": "[encoded data removed]",
      "text/plain": [
       "<Figure size 500x500 with 1 Axes>"
      ]
     },
     "metadata": {},
     "output_type": "display_data"
    }
   ],
   "source": [
    "sns.catplot(large_run_df, x=\"n_closest\", y=\"avg_dist_error\", kind=\"bar\")\n",
    "plt.xlabel(\"N closest EC reference cells\")\n",
    "plt.ylabel(\"Avg Euclidean Distance Error\")\n",
    "plt.title(\"Error Between Simulated And Estimated \\nCoords of Non-EC Cells\\n\\n 10 runs per bar, 1k EC cells, 10k Non-EC cells, \\nCoords Range: [-1,1], 3 dimensions, 35 min runtime\")"
   ]
  },
  {
   "cell_type": "code",
   "execution_count": 79,
   "metadata": {},
   "outputs": [
    {
     "data": {
      "text/plain": [
       "n_closest\n",
       "2     0.085977\n",
       "3     0.062651\n",
       "4     0.011401\n",
       "5     0.003443\n",
       "6     0.001331\n",
       "7     0.000619\n",
       "8     0.000277\n",
       "9     0.000102\n",
       "10    0.000065\n",
       "dtype: float64"
      ]
     },
     "execution_count": 79,
     "metadata": {},
     "output_type": "execute_result"
    }
   ],
   "source": [
    "large_run_df.groupby(\"n_closest\").apply(lambda x: np.mean(x.avg_dist_error))"
   ]
  },
  {
   "cell_type": "code",
   "execution_count": 81,
   "metadata": {},
   "outputs": [
    {
     "data": {
      "text/plain": [
       "n_closest\n",
       "2     0.001083\n",
       "3     0.001834\n",
       "4     0.000974\n",
       "5     0.000556\n",
       "6     0.000396\n",
       "7     0.000290\n",
       "8     0.000161\n",
       "9     0.000098\n",
       "10    0.000082\n",
       "dtype: float64"
      ]
     },
     "execution_count": 81,
     "metadata": {},
     "output_type": "execute_result"
    }
   ],
   "source": [
    "large_run_df.groupby(\"n_closest\").apply(lambda x: np.std(x.avg_dist_error))"
   ]
  },
  {
   "cell_type": "code",
   "execution_count": 50,
   "metadata": {},
   "outputs": [
    {
     "data": {
      "text/plain": [
       "array([[0.52065432, 0.35658553, 0.39339387],\n",
       "       [0.96057251, 0.70959679, 0.32454496],\n",
       "       [0.09043209, 0.33665985, 0.95246023],\n",
       "       [0.65269004, 0.47009769, 0.94798631],\n",
       "       [0.99025935, 0.57875414, 0.21326749],\n",
       "       [0.0158442 , 0.95190278, 0.33178007],\n",
       "       [0.35298317, 0.18044788, 0.37049409],\n",
       "       [0.90084386, 0.37752673, 0.90300179],\n",
       "       [0.43690985, 0.09410114, 0.67609426],\n",
       "       [0.50241853, 0.52232688, 0.8118764 ]])"
      ]
     },
     "execution_count": 50,
     "metadata": {},
     "output_type": "execute_result"
    }
   ],
   "source": [
    "sim_coordinates(10, 3, 0, 1)"
   ]
  },
  {
   "cell_type": "code",
   "execution_count": 51,
   "metadata": {},
   "outputs": [
    {
     "data": {
      "text/plain": [
       "array([[0, 0, 0],\n",
       "       [1, 1, 1]])"
      ]
     },
     "execution_count": 51,
     "metadata": {},
     "output_type": "execute_result"
    }
   ],
   "source": [
    "np.array([(0,0,0), (1,1,1)])"
   ]
  },
  {
   "cell_type": "code",
   "execution_count": 14,
   "metadata": {},
   "outputs": [],
   "source": [
    "resp = run_simulation(n_EC=1000,\n",
    "               n_other_cells=1000,\n",
    "               n_dim=2,\n",
    "               n_closest=[2,3,4,5,6,7,8,9,10],\n",
    "               coord_min = -1,\n",
    "               coord_max = 1)"
   ]
  },
  {
   "cell_type": "code",
   "execution_count": 37,
   "metadata": {},
   "outputs": [
    {
     "data": {
      "text/html": [
       "<div>\n",
       "<style scoped>\n",
       "    .dataframe tbody tr th:only-of-type {\n",
       "        vertical-align: middle;\n",
       "    }\n",
       "\n",
       "    .dataframe tbody tr th {\n",
       "        vertical-align: top;\n",
       "    }\n",
       "\n",
       "    .dataframe thead th {\n",
       "        text-align: right;\n",
       "    }\n",
       "</style>\n",
       "<table border=\"1\" class=\"dataframe\">\n",
       "  <thead>\n",
       "    <tr style=\"text-align: right;\">\n",
       "      <th></th>\n",
       "      <th>seed</th>\n",
       "      <th>simulated_coords_hash</th>\n",
       "      <th>n_EC</th>\n",
       "      <th>n_other_cells</th>\n",
       "      <th>n_dim</th>\n",
       "      <th>coord_min</th>\n",
       "      <th>coord_max</th>\n",
       "      <th>n_closest</th>\n",
       "      <th>avg_dist_error</th>\n",
       "    </tr>\n",
       "  </thead>\n",
       "  <tbody>\n",
       "    <tr>\n",
       "      <th>0</th>\n",
       "      <td>0</td>\n",
       "      <td>7587821444061547715</td>\n",
       "      <td>10</td>\n",
       "      <td>10</td>\n",
       "      <td>3</td>\n",
       "      <td>-1</td>\n",
       "      <td>1</td>\n",
       "      <td>2</td>\n",
       "      <td>5.086207e-01</td>\n",
       "    </tr>\n",
       "    <tr>\n",
       "      <th>1</th>\n",
       "      <td>0</td>\n",
       "      <td>7587821444061547715</td>\n",
       "      <td>10</td>\n",
       "      <td>10</td>\n",
       "      <td>3</td>\n",
       "      <td>-1</td>\n",
       "      <td>1</td>\n",
       "      <td>3</td>\n",
       "      <td>3.911569e-01</td>\n",
       "    </tr>\n",
       "    <tr>\n",
       "      <th>2</th>\n",
       "      <td>0</td>\n",
       "      <td>7587821444061547715</td>\n",
       "      <td>10</td>\n",
       "      <td>10</td>\n",
       "      <td>3</td>\n",
       "      <td>-1</td>\n",
       "      <td>1</td>\n",
       "      <td>4</td>\n",
       "      <td>4.650563e-02</td>\n",
       "    </tr>\n",
       "    <tr>\n",
       "      <th>3</th>\n",
       "      <td>0</td>\n",
       "      <td>7587821444061547715</td>\n",
       "      <td>10</td>\n",
       "      <td>10</td>\n",
       "      <td>3</td>\n",
       "      <td>-1</td>\n",
       "      <td>1</td>\n",
       "      <td>5</td>\n",
       "      <td>4.134664e-02</td>\n",
       "    </tr>\n",
       "    <tr>\n",
       "      <th>4</th>\n",
       "      <td>0</td>\n",
       "      <td>7587821444061547715</td>\n",
       "      <td>10</td>\n",
       "      <td>10</td>\n",
       "      <td>3</td>\n",
       "      <td>-1</td>\n",
       "      <td>1</td>\n",
       "      <td>6</td>\n",
       "      <td>1.146340e-06</td>\n",
       "    </tr>\n",
       "    <tr>\n",
       "      <th>5</th>\n",
       "      <td>0</td>\n",
       "      <td>7587821444061547715</td>\n",
       "      <td>10</td>\n",
       "      <td>10</td>\n",
       "      <td>3</td>\n",
       "      <td>-1</td>\n",
       "      <td>1</td>\n",
       "      <td>7</td>\n",
       "      <td>5.482760e-07</td>\n",
       "    </tr>\n",
       "    <tr>\n",
       "      <th>6</th>\n",
       "      <td>0</td>\n",
       "      <td>7587821444061547715</td>\n",
       "      <td>10</td>\n",
       "      <td>10</td>\n",
       "      <td>3</td>\n",
       "      <td>-1</td>\n",
       "      <td>1</td>\n",
       "      <td>8</td>\n",
       "      <td>9.024588e-07</td>\n",
       "    </tr>\n",
       "    <tr>\n",
       "      <th>7</th>\n",
       "      <td>0</td>\n",
       "      <td>7587821444061547715</td>\n",
       "      <td>10</td>\n",
       "      <td>10</td>\n",
       "      <td>3</td>\n",
       "      <td>-1</td>\n",
       "      <td>1</td>\n",
       "      <td>9</td>\n",
       "      <td>3.679568e-07</td>\n",
       "    </tr>\n",
       "    <tr>\n",
       "      <th>8</th>\n",
       "      <td>0</td>\n",
       "      <td>7587821444061547715</td>\n",
       "      <td>10</td>\n",
       "      <td>10</td>\n",
       "      <td>3</td>\n",
       "      <td>-1</td>\n",
       "      <td>1</td>\n",
       "      <td>10</td>\n",
       "      <td>3.829499e-07</td>\n",
       "    </tr>\n",
       "  </tbody>\n",
       "</table>\n",
       "</div>"
      ],
      "text/plain": [
       "   seed  simulated_coords_hash  n_EC  n_other_cells  n_dim  coord_min  \\\n",
       "0     0    7587821444061547715    10             10      3         -1   \n",
       "1     0    7587821444061547715    10             10      3         -1   \n",
       "2     0    7587821444061547715    10             10      3         -1   \n",
       "3     0    7587821444061547715    10             10      3         -1   \n",
       "4     0    7587821444061547715    10             10      3         -1   \n",
       "5     0    7587821444061547715    10             10      3         -1   \n",
       "6     0    7587821444061547715    10             10      3         -1   \n",
       "7     0    7587821444061547715    10             10      3         -1   \n",
       "8     0    7587821444061547715    10             10      3         -1   \n",
       "\n",
       "   coord_max  n_closest  avg_dist_error  \n",
       "0          1          2    5.086207e-01  \n",
       "1          1          3    3.911569e-01  \n",
       "2          1          4    4.650563e-02  \n",
       "3          1          5    4.134664e-02  \n",
       "4          1          6    1.146340e-06  \n",
       "5          1          7    5.482760e-07  \n",
       "6          1          8    9.024588e-07  \n",
       "7          1          9    3.679568e-07  \n",
       "8          1         10    3.829499e-07  "
      ]
     },
     "execution_count": 37,
     "metadata": {},
     "output_type": "execute_result"
    }
   ],
   "source": [
    "pd.DataFrame(resp)"
   ]
  },
  {
   "cell_type": "code",
   "execution_count": null,
   "metadata": {},
   "outputs": [],
   "source": []
  }
 ],
 "metadata": {
  "kernelspec": {
   "display_name": "Python 3",
   "language": "python",
   "name": "python3"
  },
  "language_info": {
   "codemirror_mode": {
    "name": "ipython",
    "version": 3
   },
   "file_extension": ".py",
   "mimetype": "text/x-python",
   "name": "python",
   "nbconvert_exporter": "python",
   "pygments_lexer": "ipython3",
   "version": "3.8.17"
  },
  "orig_nbformat": 4
 },
 "nbformat": 4,
 "nbformat_minor": 2
}
