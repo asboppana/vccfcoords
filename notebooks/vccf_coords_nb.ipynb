{
 "cells": [
  {
   "cell_type": "code",
   "execution_count": 55,
   "metadata": {},
   "outputs": [
    {
     "data": {
      "text/plain": [
       "<module 'vccfcoords.solvers' from '/workspaces/vccfcoords/vccfcoords/solvers.py'>"
      ]
     },
     "execution_count": 55,
     "metadata": {},
     "output_type": "execute_result"
    }
   ],
   "source": [
    "%config IPCompleter.use_jedi=False\n",
    "\n",
    "import numpy as np\n",
    "import pandas as pd\n",
    "from scipy.spatial import distance\n",
    "from matplotlib import pyplot as plt\n",
    "import seaborn as sns\n",
    "import vccfcoords\n",
    "from vccfcoords import simulation\n",
    "from vccfcoords import utils\n",
    "from vccfcoords import solvers\n",
    "import math\n",
    "import localization as lx\n",
    "import os, sys\n",
    "from typing import Dict, Any, Tuple, List, Union\n",
    "import hashlib\n",
    "import json\n",
    "from importlib import reload\n",
    "from tqdm import tqdm\n",
    "reload(vccfcoords.simulation)\n",
    "reload(vccfcoords.utils)\n",
    "reload(vccfcoords.solvers)"
   ]
  },
  {
   "cell_type": "code",
   "execution_count": 2,
   "metadata": {},
   "outputs": [
    {
     "name": "stdout",
     "output_type": "stream",
     "text": [
      "[[-3.9767762  -0.49137944  2.9764349 ]\n",
      " [-4.2011125   4.32536936  1.87714204]\n",
      " [-2.66644789 -3.03017556  0.93597328]\n",
      " [ 0.26069705 -2.62790414 -0.37978428]\n",
      " [-1.42126795 -3.5231409   2.38898443]]\n",
      "(-3.976776202504399, -0.49137944076325624, 2.9764348970480445)\n"
     ]
    }
   ],
   "source": [
    "testing_solver = simulation.sim_coordinates(5, 3, -5,5)\n",
    "print(testing_solver)\n",
    "distances = [utils.get_euclid_dist(testing_solver[0],x) for x in testing_solver[1:]]\n",
    "computed_coords = solvers.geom_3D_solver(distances, testing_solver[1:])\n",
    "print(computed_coords)"
   ]
  },
  {
   "cell_type": "code",
   "execution_count": 53,
   "metadata": {},
   "outputs": [],
   "source": [
    "def check_lse_2d_sign():\n",
    "    n_checks = 10000\n",
    "\n",
    "    euclid_error = []\n",
    "    for i in range(n_checks):\n",
    "        sim_points = simulation.sim_coordinates(8, 2, -5,5)\n",
    "        distances = [utils.get_euclid_dist(sim_points[0],x) for x in sim_points[1:]]\n",
    "        x,y = solvers.opt_lse_2D_solver(distances, sim_points[1:])\n",
    "\n",
    "        #assert(np.sign(x) == np.sign(sim_points[0][0]))\n",
    "        #assert(np.sign(y) == np.sign(sim_points[0][1]))\n",
    "\n",
    "        euclid_error.append(utils.get_euclid_dist((x,y), tuple(sim_points[0])))\n",
    "    \n",
    "    return np.mean(euclid_error)"
   ]
  },
  {
   "cell_type": "code",
   "execution_count": 82,
   "metadata": {},
   "outputs": [],
   "source": [
    "def check_lse_3D_sign():\n",
    "    n_checks = 10000\n",
    "\n",
    "    euclid_error = []\n",
    "    for i in range(n_checks):\n",
    "        sim_points = simulation.sim_coordinates(9, 3, -5,5)\n",
    "        distances = [utils.get_euclid_dist(sim_points[0],x) for x in sim_points[1:]]\n",
    "        x,y,z = solvers.opt_lse_3D_solver(distances, sim_points[1:])\n",
    "\n",
    "        assert(np.sign(x) == np.sign(sim_points[0][0]))\n",
    "        assert(np.sign(y) == np.sign(sim_points[0][1]))\n",
    "\n",
    "        euclid_error.append(utils.get_euclid_dist((x,y,z), tuple(sim_points[0])))\n",
    "    \n",
    "    return np.mean(euclid_error)"
   ]
  },
  {
   "cell_type": "code",
   "execution_count": 83,
   "metadata": {},
   "outputs": [
    {
     "data": {
      "text/plain": [
       "1.0047984086562821e-15"
      ]
     },
     "execution_count": 83,
     "metadata": {},
     "output_type": "execute_result"
    }
   ],
   "source": [
    "check_lse_3D_sign()"
   ]
  },
  {
   "cell_type": "code",
   "execution_count": 26,
   "metadata": {},
   "outputs": [
    {
     "data": {
      "text/plain": [
       "3.253756813633929e-14"
      ]
     },
     "execution_count": 26,
     "metadata": {},
     "output_type": "execute_result"
    }
   ],
   "source": [
    "check_2d_sign()"
   ]
  },
  {
   "cell_type": "code",
   "execution_count": 27,
   "metadata": {},
   "outputs": [],
   "source": [
    "def check_2d_sign():\n",
    "    n_checks = 1000\n",
    "\n",
    "    euclid_error = []\n",
    "    for i in range(n_checks):\n",
    "        sim_points = simulation.sim_coordinates(4, 2, -5,5)\n",
    "        distances = [utils.get_euclid_dist(sim_points[0],x) for x in sim_points[1:]]\n",
    "        x,y = solvers.geom_2D_solver(distances, sim_points[1:])\n",
    "\n",
    "        assert(np.sign(x) == np.sign(sim_points[0][0]))\n",
    "        assert(np.sign(y) == np.sign(sim_points[0][1]))\n",
    "\n",
    "        euclid_error.append(utils.get_euclid_dist((x,y), tuple(sim_points[0])))\n",
    "    \n",
    "    return np.mean(euclid_error)\n",
    "\n",
    "def check_3d_sign():\n",
    "    n_checks = 1000\n",
    "\n",
    "    euclid_error = []\n",
    "    for i in range(n_checks):\n",
    "        sim_points = simulation.sim_coordinates(5, 3, -5,5)\n",
    "\n",
    "\n",
    "        distances = [utils.get_euclid_dist(sim_points[0],x) for x in sim_points[1:]]\n",
    "        x,y,z = solvers.geom_3D_solver(distances, sim_points[1:])\n",
    "\n",
    "        assert(np.sign(x) == np.sign(sim_points[0][0]))\n",
    "        assert(np.sign(y) == np.sign(sim_points[0][1]))\n",
    "        assert(np.sign(z) == np.sign(sim_points[0][2]))\n",
    "\n",
    "        euclid_error.append(utils.get_euclid_dist((x,y,z), tuple(sim_points[0])))\n",
    "\n",
    "    \n",
    "    return np.mean(euclid_error)\n",
    "\n",
    "#print(check_2d_sign())\n",
    "#print(check_3d_sign())"
   ]
  },
  {
   "cell_type": "code",
   "execution_count": 22,
   "metadata": {},
   "outputs": [
    {
     "data": {
      "image/png": "[encoded data removed]",
      "text/plain": [
       "<Figure size 640x480 with 1 Axes>"
      ]
     },
     "metadata": {},
     "output_type": "display_data"
    }
   ],
   "source": [
    "test_coords = simulation.sim_coordinates(10, 3, 0,1)\n",
    "test_closet_points = simulation.get_closest_points(test, (0,0,0), 5)\n",
    "utils.plot_coordinates(test_coords, 2)\n"
   ]
  },
  {
   "cell_type": "code",
   "execution_count": 14,
   "metadata": {},
   "outputs": [],
   "source": [
    "class HiddenPrints:\n",
    "    def __enter__(self):\n",
    "        self._original_stdout = sys.stdout\n",
    "        sys.stdout = open(os.devnull, 'w')\n",
    "\n",
    "    def __exit__(self, exc_type, exc_val, exc_tb):\n",
    "        sys.stdout.close()\n",
    "        sys.stdout = self._original_stdout\n",
    "\n",
    "def estimate_coord(coords, distances):\n",
    "    \n",
    "    dim = coords.shape[1]\n",
    "    dim_str = str(dim) + \"D\"\n",
    "\n",
    "    state = lx.Project(mode=dim_str,solver='LSE')\n",
    "\n",
    "    for coord_idx in range(len(coords)):\n",
    "        state.add_anchor(str(coord_idx), tuple(coords[coord_idx]))\n",
    "    \n",
    "    unknown_cell, unkown_cell_label= state.add_target()\n",
    "\n",
    "    for dist_idx in range(len(distances)):\n",
    "        unknown_cell.add_measure(str(dist_idx),distances[dist_idx])\n",
    "\n",
    "    with HiddenPrints():\n",
    "        state.solve()\n",
    "\n",
    "    computed_coord = None\n",
    "\n",
    "    if dim == 2:\n",
    "        computed_coord = np.array((unknown_cell.loc.x, unknown_cell.loc.y))\n",
    "    else:\n",
    "        computed_coord = np.array((unknown_cell.loc.x, unknown_cell.loc.y, unknown_cell.loc.z))\n",
    "\n",
    "    return computed_coord\n",
    "\n",
    "\n",
    "def estimate_coords(EC_coords, closest_cells_dict):\n",
    "\n",
    "    COORD_IDX = 0\n",
    "    DIST_IDX = 1\n",
    "\n",
    "    computed_coords = dict()\n",
    "\n",
    "    for key,val in closest_cells_dict.items():\n",
    "        reference_coords = EC_coords[val[COORD_IDX]]\n",
    "        reference_dists = val[DIST_IDX]\n",
    "\n",
    "        computed_coord = estimate_coord(reference_coords, reference_dists)\n",
    "\n",
    "        computed_coords[key] = computed_coord\n",
    "\n",
    "    return computed_coords\n",
    "\n",
    "def get_avg_dist_error(true_coords, pred_coords_dict):\n",
    "\n",
    "    dist_error = [get_euclid_dist(true_coords[x], pred_coords_dict[x]) for x in pred_coords_dict]\n",
    "\n",
    "    return np.mean(dist_error)\n",
    "\n",
    "def run_simulation(n_EC,\n",
    "                   n_other_cells,\n",
    "                   n_dim,\n",
    "                   n_closest,\n",
    "                   coord_min,\n",
    "                   coord_max,\n",
    "                   seed):\n",
    "    \n",
    "    COORD_IDX = 0\n",
    "    DIST_IDX = 1\n",
    "\n",
    "    np.random.seed(seed)\n",
    "    \n",
    "    #Generating Coordinates\n",
    "    EC_coords = sim_coordinates(n_EC, n_dim, coord_min, coord_max)\n",
    "    other_cell_coords = sim_coordinates(n_other_cells, n_dim, coord_min, coord_max)\n",
    "\n",
    "    simulated_coords_hash = hash(np.vstack((EC_coords, other_cell_coords)).tobytes())\n",
    "\n",
    "    n_closest_list = n_closest if isinstance(n_closest, list) else [n_closest]\n",
    "\n",
    "    closest_EC_cells_dict = {x:get_closest_points(EC_coords,other_cell_coords[x], n_other_cells) for x in list(range(len(other_cell_coords)))}\n",
    "\n",
    "    avg_dist_error_list = []\n",
    "\n",
    "    #Using Multilateration engine to estimate coordinates given distances to endothelial cells\n",
    "    for n_closest_num in n_closest_list:\n",
    "        closest_EC_cells_dict_subset = {x:(y[COORD_IDX][:n_closest_num],y[DIST_IDX][:n_closest_num]) for x,y in closest_EC_cells_dict.items()}\n",
    "        computed_coords = estimate_coords(EC_coords, closest_EC_cells_dict_subset)\n",
    "        avg_dist_error = get_avg_dist_error(other_cell_coords, computed_coords)\n",
    "\n",
    "        avg_dist_error_list.append(avg_dist_error)\n",
    "\n",
    "    experiment_dict_list = []\n",
    "\n",
    "    for x,y in zip(n_closest_list, avg_dist_error_list):\n",
    "        experiment_dict = dict()\n",
    "        experiment_dict[\"seed\"] = seed\n",
    "        experiment_dict[\"simulated_coords_hash\"] = simulated_coords_hash\n",
    "        experiment_dict[\"n_EC\"] = n_EC\n",
    "        experiment_dict[\"n_other_cells\"] = n_other_cells\n",
    "        experiment_dict[\"n_dim\"] = n_dim\n",
    "        experiment_dict[\"coord_min\"] = coord_min\n",
    "        experiment_dict[\"coord_max\"] = coord_max\n",
    "        experiment_dict[\"n_closest\"] = x\n",
    "        experiment_dict[\"avg_dist_error\"] = y\n",
    "\n",
    "        experiment_dict_list.append(experiment_dict)\n",
    "\n",
    "    return experiment_dict_list"
   ]
  },
  {
   "cell_type": "code",
   "execution_count": 40,
   "metadata": {},
   "outputs": [
    {
     "name": "stderr",
     "output_type": "stream",
     "text": [
      "100%|██████████| 10/10 [35:59<00:00, 215.98s/it]\n"
     ]
    }
   ],
   "source": [
    "resp = [run_simulation(n_EC=1000,\n",
    "               n_other_cells=10000,\n",
    "               n_dim=3,\n",
    "               n_closest=[2,3,4,5,6,7,8,9,10],\n",
    "               coord_min = -1,\n",
    "               coord_max = 1,\n",
    "               seed = x) for x in tqdm(list(range(10)))]"
   ]
  },
  {
   "cell_type": "code",
   "execution_count": 44,
   "metadata": {},
   "outputs": [],
   "source": [
    "large_run_df = pd.concat([pd.DataFrame(x)for x in resp], axis = 0)"
   ]
  },
  {
   "cell_type": "code",
   "execution_count": 84,
   "metadata": {},
   "outputs": [
    {
     "data": {
      "text/plain": [
       "Text(0.5, 1.0, 'Error Between Simulated And Estimated \\nCoords of Non-EC Cells\\n\\n 10 runs per bar, 1k EC cells, 10k Non-EC cells, \\nCoords Range: [-1,1], 3 dimensions, 35 min runtime')"
      ]
     },
     "execution_count": 84,
     "metadata": {},
     "output_type": "execute_result"
    },
    {
     "data": {
      "image/png": "[encoded data removed]",
      "text/plain": [
       "<Figure size 500x500 with 1 Axes>"
      ]
     },
     "metadata": {},
     "output_type": "display_data"
    }
   ],
   "source": [
    "sns.catplot(large_run_df, x=\"n_closest\", y=\"avg_dist_error\", kind=\"bar\")\n",
    "plt.xlabel(\"N closest EC reference cells\")\n",
    "plt.ylabel(\"Avg Euclidean Distance Error\")\n",
    "plt.title(\"Error Between Simulated And Estimated \\nCoords of Non-EC Cells\\n\\n 10 runs per bar, 1k EC cells, 10k Non-EC cells, \\nCoords Range: [-1,1], 3 dimensions, 35 min runtime\")"
   ]
  },
  {
   "cell_type": "code",
   "execution_count": 79,
   "metadata": {},
   "outputs": [
    {
     "data": {
      "text/plain": [
       "n_closest\n",
       "2     0.085977\n",
       "3     0.062651\n",
       "4     0.011401\n",
       "5     0.003443\n",
       "6     0.001331\n",
       "7     0.000619\n",
       "8     0.000277\n",
       "9     0.000102\n",
       "10    0.000065\n",
       "dtype: float64"
      ]
     },
     "execution_count": 79,
     "metadata": {},
     "output_type": "execute_result"
    }
   ],
   "source": [
    "large_run_df.groupby(\"n_closest\").apply(lambda x: np.mean(x.avg_dist_error))"
   ]
  },
  {
   "cell_type": "code",
   "execution_count": 81,
   "metadata": {},
   "outputs": [
    {
     "data": {
      "text/plain": [
       "n_closest\n",
       "2     0.001083\n",
       "3     0.001834\n",
       "4     0.000974\n",
       "5     0.000556\n",
       "6     0.000396\n",
       "7     0.000290\n",
       "8     0.000161\n",
       "9     0.000098\n",
       "10    0.000082\n",
       "dtype: float64"
      ]
     },
     "execution_count": 81,
     "metadata": {},
     "output_type": "execute_result"
    }
   ],
   "source": [
    "large_run_df.groupby(\"n_closest\").apply(lambda x: np.std(x.avg_dist_error))"
   ]
  },
  {
   "cell_type": "code",
   "execution_count": 50,
   "metadata": {},
   "outputs": [
    {
     "data": {
      "text/plain": [
       "array([[0.52065432, 0.35658553, 0.39339387],\n",
       "       [0.96057251, 0.70959679, 0.32454496],\n",
       "       [0.09043209, 0.33665985, 0.95246023],\n",
       "       [0.65269004, 0.47009769, 0.94798631],\n",
       "       [0.99025935, 0.57875414, 0.21326749],\n",
       "       [0.0158442 , 0.95190278, 0.33178007],\n",
       "       [0.35298317, 0.18044788, 0.37049409],\n",
       "       [0.90084386, 0.37752673, 0.90300179],\n",
       "       [0.43690985, 0.09410114, 0.67609426],\n",
       "       [0.50241853, 0.52232688, 0.8118764 ]])"
      ]
     },
     "execution_count": 50,
     "metadata": {},
     "output_type": "execute_result"
    }
   ],
   "source": [
    "sim_coordinates(10, 3, 0, 1)"
   ]
  },
  {
   "cell_type": "code",
   "execution_count": 51,
   "metadata": {},
   "outputs": [
    {
     "data": {
      "text/plain": [
       "array([[0, 0, 0],\n",
       "       [1, 1, 1]])"
      ]
     },
     "execution_count": 51,
     "metadata": {},
     "output_type": "execute_result"
    }
   ],
   "source": [
    "np.array([(0,0,0), (1,1,1)])"
   ]
  },
  {
   "cell_type": "code",
   "execution_count": 14,
   "metadata": {},
   "outputs": [],
   "source": [
    "resp = run_simulation(n_EC=1000,\n",
    "               n_other_cells=1000,\n",
    "               n_dim=2,\n",
    "               n_closest=[2,3,4,5,6,7,8,9,10],\n",
    "               coord_min = -1,\n",
    "               coord_max = 1)"
   ]
  },
  {
   "cell_type": "code",
   "execution_count": 37,
   "metadata": {},
   "outputs": [
    {
     "data": {
      "text/html": [
       "<div>\n",
       "<style scoped>\n",
       "    .dataframe tbody tr th:only-of-type {\n",
       "        vertical-align: middle;\n",
       "    }\n",
       "\n",
       "    .dataframe tbody tr th {\n",
       "        vertical-align: top;\n",
       "    }\n",
       "\n",
       "    .dataframe thead th {\n",
       "        text-align: right;\n",
       "    }\n",
       "</style>\n",
       "<table border=\"1\" class=\"dataframe\">\n",
       "  <thead>\n",
       "    <tr style=\"text-align: right;\">\n",
       "      <th></th>\n",
       "      <th>seed</th>\n",
       "      <th>simulated_coords_hash</th>\n",
       "      <th>n_EC</th>\n",
       "      <th>n_other_cells</th>\n",
       "      <th>n_dim</th>\n",
       "      <th>coord_min</th>\n",
       "      <th>coord_max</th>\n",
       "      <th>n_closest</th>\n",
       "      <th>avg_dist_error</th>\n",
       "    </tr>\n",
       "  </thead>\n",
       "  <tbody>\n",
       "    <tr>\n",
       "      <th>0</th>\n",
       "      <td>0</td>\n",
       "      <td>7587821444061547715</td>\n",
       "      <td>10</td>\n",
       "      <td>10</td>\n",
       "      <td>3</td>\n",
       "      <td>-1</td>\n",
       "      <td>1</td>\n",
       "      <td>2</td>\n",
       "      <td>5.086207e-01</td>\n",
       "    </tr>\n",
       "    <tr>\n",
       "      <th>1</th>\n",
       "      <td>0</td>\n",
       "      <td>7587821444061547715</td>\n",
       "      <td>10</td>\n",
       "      <td>10</td>\n",
       "      <td>3</td>\n",
       "      <td>-1</td>\n",
       "      <td>1</td>\n",
       "      <td>3</td>\n",
       "      <td>3.911569e-01</td>\n",
       "    </tr>\n",
       "    <tr>\n",
       "      <th>2</th>\n",
       "      <td>0</td>\n",
       "      <td>7587821444061547715</td>\n",
       "      <td>10</td>\n",
       "      <td>10</td>\n",
       "      <td>3</td>\n",
       "      <td>-1</td>\n",
       "      <td>1</td>\n",
       "      <td>4</td>\n",
       "      <td>4.650563e-02</td>\n",
       "    </tr>\n",
       "    <tr>\n",
       "      <th>3</th>\n",
       "      <td>0</td>\n",
       "      <td>7587821444061547715</td>\n",
       "      <td>10</td>\n",
       "      <td>10</td>\n",
       "      <td>3</td>\n",
       "      <td>-1</td>\n",
       "      <td>1</td>\n",
       "      <td>5</td>\n",
       "      <td>4.134664e-02</td>\n",
       "    </tr>\n",
       "    <tr>\n",
       "      <th>4</th>\n",
       "      <td>0</td>\n",
       "      <td>7587821444061547715</td>\n",
       "      <td>10</td>\n",
       "      <td>10</td>\n",
       "      <td>3</td>\n",
       "      <td>-1</td>\n",
       "      <td>1</td>\n",
       "      <td>6</td>\n",
       "      <td>1.146340e-06</td>\n",
       "    </tr>\n",
       "    <tr>\n",
       "      <th>5</th>\n",
       "      <td>0</td>\n",
       "      <td>7587821444061547715</td>\n",
       "      <td>10</td>\n",
       "      <td>10</td>\n",
       "      <td>3</td>\n",
       "      <td>-1</td>\n",
       "      <td>1</td>\n",
       "      <td>7</td>\n",
       "      <td>5.482760e-07</td>\n",
       "    </tr>\n",
       "    <tr>\n",
       "      <th>6</th>\n",
       "      <td>0</td>\n",
       "      <td>7587821444061547715</td>\n",
       "      <td>10</td>\n",
       "      <td>10</td>\n",
       "      <td>3</td>\n",
       "      <td>-1</td>\n",
       "      <td>1</td>\n",
       "      <td>8</td>\n",
       "      <td>9.024588e-07</td>\n",
       "    </tr>\n",
       "    <tr>\n",
       "      <th>7</th>\n",
       "      <td>0</td>\n",
       "      <td>7587821444061547715</td>\n",
       "      <td>10</td>\n",
       "      <td>10</td>\n",
       "      <td>3</td>\n",
       "      <td>-1</td>\n",
       "      <td>1</td>\n",
       "      <td>9</td>\n",
       "      <td>3.679568e-07</td>\n",
       "    </tr>\n",
       "    <tr>\n",
       "      <th>8</th>\n",
       "      <td>0</td>\n",
       "      <td>7587821444061547715</td>\n",
       "      <td>10</td>\n",
       "      <td>10</td>\n",
       "      <td>3</td>\n",
       "      <td>-1</td>\n",
       "      <td>1</td>\n",
       "      <td>10</td>\n",
       "      <td>3.829499e-07</td>\n",
       "    </tr>\n",
       "  </tbody>\n",
       "</table>\n",
       "</div>"
      ],
      "text/plain": [
       "   seed  simulated_coords_hash  n_EC  n_other_cells  n_dim  coord_min  \\\n",
       "0     0    7587821444061547715    10             10      3         -1   \n",
       "1     0    7587821444061547715    10             10      3         -1   \n",
       "2     0    7587821444061547715    10             10      3         -1   \n",
       "3     0    7587821444061547715    10             10      3         -1   \n",
       "4     0    7587821444061547715    10             10      3         -1   \n",
       "5     0    7587821444061547715    10             10      3         -1   \n",
       "6     0    7587821444061547715    10             10      3         -1   \n",
       "7     0    7587821444061547715    10             10      3         -1   \n",
       "8     0    7587821444061547715    10             10      3         -1   \n",
       "\n",
       "   coord_max  n_closest  avg_dist_error  \n",
       "0          1          2    5.086207e-01  \n",
       "1          1          3    3.911569e-01  \n",
       "2          1          4    4.650563e-02  \n",
       "3          1          5    4.134664e-02  \n",
       "4          1          6    1.146340e-06  \n",
       "5          1          7    5.482760e-07  \n",
       "6          1          8    9.024588e-07  \n",
       "7          1          9    3.679568e-07  \n",
       "8          1         10    3.829499e-07  "
      ]
     },
     "execution_count": 37,
     "metadata": {},
     "output_type": "execute_result"
    }
   ],
   "source": [
    "pd.DataFrame(resp)"
   ]
  },
  {
   "cell_type": "code",
   "execution_count": 167,
   "metadata": {},
   "outputs": [],
   "source": [
    "#Generating Cell Coordinates\n",
    "EC_coords = sim_coordinates(1000, 3, -1, 1)\n",
    "other_cell_coords = sim_coordinates(10000, 3, -1, 1)\n",
    "\n",
    "#Computing Closest Neighbors to Each Cell\n",
    "closest_EC_cells_3 = {x:get_closest_points(EC_coords,other_cell_coords[x], 1000) for x in list(range(len(other_cell_coords)))}"
   ]
  },
  {
   "cell_type": "code",
   "execution_count": 168,
   "metadata": {},
   "outputs": [
    {
     "data": {
      "text/plain": [
       "(array([118, 979, 311,  28, 383, 912, 815, 959, 985, 375,  47, 346, 610,\n",
       "        719, 547,  46,  10, 362, 370, 417, 570, 758, 653,  24, 972,  23,\n",
       "        671,  66, 457, 127, 939, 802, 980, 905, 165,  50, 195, 548, 861,\n",
       "        870, 339, 343, 625,  17, 924, 431, 893, 849, 327, 934, 317, 799,\n",
       "         89,  92, 476, 760, 803, 842, 712, 545, 214, 356, 401, 779, 501,\n",
       "        933, 409, 656, 742, 427, 752, 300,  43, 753, 452, 876, 105, 602,\n",
       "        527, 146, 890, 832, 553, 560, 761, 885, 407, 286, 633, 860, 620,\n",
       "        836, 155, 133, 884, 613, 728, 180, 571, 871, 952, 643, 378, 735,\n",
       "        634, 695, 999, 134, 510,  65, 148, 675, 497, 998, 906, 929,  13,\n",
       "        528,  15,  53, 581, 413, 516, 917, 411, 416, 273, 563, 679, 647,\n",
       "        654, 491, 838,  29, 766, 883, 850, 194, 853,  39, 635, 358, 833,\n",
       "        935, 822, 137, 301,  76, 493, 359,   0, 579, 402,  75,  32,  26,\n",
       "        556, 992, 477, 326,  36, 429,  63, 851, 349, 275, 572, 823, 216,\n",
       "        968, 796, 987, 307, 726, 805, 751, 966, 104, 603, 384, 997, 576,\n",
       "        529, 271, 261,  54,  48, 406, 200, 568, 734, 617,   8, 641, 394,\n",
       "        170, 445, 454, 284, 739, 157, 353, 123, 733, 371, 227, 727, 405,\n",
       "        337, 791, 542, 608, 430, 173, 185, 294, 909, 601, 554, 708, 149,\n",
       "         78, 483, 585, 718, 819, 895,  71, 813, 504, 787,  80, 435, 280,\n",
       "        190, 438, 594, 716, 496, 809, 710, 636, 722, 299, 460, 897, 566,\n",
       "        333, 500, 199, 347, 561, 534, 880, 706,  88, 449, 172, 224, 213,\n",
       "        750, 361, 116, 756, 373, 949, 665, 492, 988, 266, 903, 167,  34,\n",
       "        520, 278, 770, 160, 757, 592, 942, 305, 442,  97, 196, 245, 175,\n",
       "        788, 247, 187, 421, 938, 650, 357, 400,  57, 505, 293, 989, 335,\n",
       "         11, 463, 926, 129, 990, 709, 623, 256, 896, 824, 208,  55, 974,\n",
       "        506,  12, 338, 355, 583, 785, 468, 631, 663,  35, 562, 573, 971,\n",
       "        108,  59, 569,  94, 754, 397, 661, 422, 287, 309, 282, 786,  18,\n",
       "        183, 738, 651, 495, 114, 502,  58, 459, 694, 412, 901,  96, 872,\n",
       "        877, 586, 150, 627, 621, 314, 637, 249, 624, 391, 455,  44, 277,\n",
       "        840,  73, 408, 432, 295, 839, 218, 596,  99, 746, 390, 729, 721,\n",
       "        808, 536, 526, 348, 977, 541, 747, 197, 279, 136, 260, 546, 207,\n",
       "        257, 354, 940, 887, 103, 936, 565, 503, 648, 996, 381, 319, 283,\n",
       "        995, 236, 291, 932, 928, 225, 773, 444, 919, 255, 745,  67, 855,\n",
       "        927, 672, 352, 841, 947, 100, 453, 488, 792,  60, 217, 189, 962,\n",
       "        674,  74, 759, 518, 205, 837, 206, 132,  37, 638, 143, 931, 955,\n",
       "        700, 110, 930, 350, 668, 701, 523, 147, 288, 531, 466,  79, 313,\n",
       "        276, 580, 109, 588, 514,   3, 128, 515, 436, 521, 696,  33, 589,\n",
       "         82, 145, 812, 447, 577, 386, 790, 223, 186, 369, 101, 874, 857,\n",
       "        303, 393, 395, 290, 385, 967, 886, 789, 285, 262, 158, 152, 622,\n",
       "        723, 794, 705,  87, 614, 379,  21, 297, 308, 372, 365, 154, 345,\n",
       "        854, 240, 324, 437, 539, 398, 848, 380, 377, 846, 141, 764, 632,\n",
       "        724,  31, 888,  27,  86, 467, 153, 605, 168, 465,  72, 265, 918,\n",
       "        274, 795, 737, 456, 264, 174, 193, 902, 140, 519, 376,  45, 749,\n",
       "         83, 693, 508, 954, 975,  40, 703, 202,  98, 963, 106, 649, 778,\n",
       "        642, 818, 820, 323, 484, 615, 220, 907, 957, 704, 618, 169, 776,\n",
       "        304, 681, 151, 644, 984, 479, 342, 807, 513, 182, 410, 680, 597,\n",
       "        775, 741, 112, 115, 388, 263, 732, 965, 898, 482, 915, 946, 259,\n",
       "        578, 328, 555, 331, 662, 237, 188,  52, 448, 767, 485,  20, 494,\n",
       "        831, 399,   6, 978, 423, 981,  30, 142, 626, 559, 711, 292, 552,\n",
       "        441, 267, 843, 914, 953, 731, 811, 192, 652, 434, 462, 203, 941,\n",
       "        550,  93, 920, 575, 164, 873, 817, 666, 532, 645, 176, 612, 126,\n",
       "        250, 389, 908,   4, 544, 241, 558, 425,  51, 312, 419, 713, 366,\n",
       "        298, 159, 310, 315, 234, 715, 669, 201,  62, 212, 374, 828, 522,\n",
       "        226, 296, 660, 910, 801, 582, 490, 657, 798, 222, 340, 538, 865,\n",
       "        325, 834, 717, 685, 392, 233, 673, 102, 138, 691, 994, 238, 598,\n",
       "        363, 782, 763, 533, 473, 487,  84, 113, 156, 629, 135, 184, 678,\n",
       "        937, 229, 125, 827, 784, 351,  61, 344, 720, 868, 976, 121,  68,\n",
       "        404, 970, 777,  70, 982, 993, 451, 600, 780, 590, 332, 584, 367,\n",
       "        321, 922, 382, 469, 239, 210, 829, 341, 418, 852, 891, 961, 507,\n",
       "        948,  69, 607, 684, 771, 964, 329, 628, 686,  22, 951, 878, 450,\n",
       "        816, 433, 900, 804, 120, 664, 639, 130, 958,  81, 604, 743, 748,\n",
       "        440, 178, 177, 472, 859, 107, 302, 835, 606, 688, 330, 991, 219,\n",
       "        740, 464, 844, 783, 122,  42, 781, 863, 537, 254, 139, 272, 677,\n",
       "          7, 414, 616, 609, 530, 825, 744, 845, 258, 498, 318,  56, 973,\n",
       "        144, 655, 470, 209,  14, 481, 403, 725, 676, 244, 797, 124, 646,\n",
       "        306, 253, 289, 702, 551, 736, 869, 270, 334, 682, 945,   9, 181,\n",
       "        875, 765, 232, 692, 499,  16,  38, 793, 690, 858, 211, 360, 364,\n",
       "        525, 983, 426, 714, 762, 950, 228, 960, 119, 921, 899, 517, 923,\n",
       "          2,  90, 821, 800, 191,  49, 892, 557, 368, 535, 587, 281, 230,\n",
       "        163, 630, 415, 640, 847, 549, 446, 881, 471, 774,  19, 599, 755,\n",
       "        667,   1, 856,  25, 540, 162, 320, 707, 956, 316, 810,   5, 424,\n",
       "         91,  41, 478, 670, 768, 911,  85, 524, 611, 243, 879, 730, 336,\n",
       "        480, 489, 567, 591, 574, 215, 943, 862, 474, 171, 866, 461, 543,\n",
       "        595, 659, 268, 252, 944, 913, 683, 204, 889, 511, 443, 198, 231,\n",
       "        826, 894, 689, 235, 697, 593, 509, 117, 396, 242, 161, 687, 986,\n",
       "        246, 248, 179, 458, 769, 699, 867, 969, 864, 698, 251, 420, 387,\n",
       "         64, 814, 428, 772,  77, 882, 111, 512, 439, 486, 619, 806, 658,\n",
       "        830, 904, 925, 322, 221, 131,  95, 564, 916, 475, 269, 166]),\n",
       " array([0.14843335, 0.16616877, 0.1729608 , 0.19670015, 0.21971888,\n",
       "        0.22808746, 0.24248147, 0.24984482, 0.24990816, 0.26258967,\n",
       "        0.29469968, 0.30413945, 0.30578977, 0.31023456, 0.31111147,\n",
       "        0.31540533, 0.31593181, 0.31658333, 0.33126923, 0.33215362,\n",
       "        0.33742363, 0.34352765, 0.34435421, 0.34624216, 0.35506541,\n",
       "        0.35781037, 0.3661606 , 0.36670151, 0.36884152, 0.36897082,\n",
       "        0.37491957, 0.37772418, 0.38572187, 0.39411135, 0.40445156,\n",
       "        0.40464908, 0.40948336, 0.42569927, 0.43222861, 0.43548442,\n",
       "        0.44233218, 0.44525051, 0.45507888, 0.45794131, 0.45951775,\n",
       "        0.46050133, 0.46198566, 0.46381365, 0.47229118, 0.47476377,\n",
       "        0.47504075, 0.47559147, 0.48121857, 0.48319837, 0.48480625,\n",
       "        0.48948072, 0.49422321, 0.49476464, 0.49516958, 0.50003891,\n",
       "        0.50054909, 0.51150615, 0.51888144, 0.51943861, 0.52410754,\n",
       "        0.52541609, 0.52669224, 0.52802995, 0.5303683 , 0.53053747,\n",
       "        0.53269674, 0.53551769, 0.54539206, 0.54881473, 0.55310994,\n",
       "        0.55351017, 0.55406266, 0.55519705, 0.55605781, 0.56158739,\n",
       "        0.56173562, 0.56231713, 0.5634258 , 0.56780875, 0.57188452,\n",
       "        0.57276596, 0.57608774, 0.57792269, 0.58342669, 0.5859888 ,\n",
       "        0.58644261, 0.58862429, 0.59095809, 0.59553782, 0.59613162,\n",
       "        0.59835138, 0.59861117, 0.60032033, 0.60050031, 0.60156832,\n",
       "        0.60464318, 0.60634428, 0.60713605, 0.60792184, 0.60902776,\n",
       "        0.6121013 , 0.6131139 , 0.61579318, 0.61706351, 0.61781642,\n",
       "        0.62685784, 0.62916575, 0.63015949, 0.6344408 , 0.63565426,\n",
       "        0.64210087, 0.64243076, 0.65012381, 0.65031056, 0.65054456,\n",
       "        0.65279408, 0.65734174, 0.65769066, 0.65883271, 0.65971874,\n",
       "        0.66089799, 0.66323058, 0.66851654, 0.67329449, 0.67581598,\n",
       "        0.67701841, 0.67841293, 0.68237328, 0.68419736, 0.68515085,\n",
       "        0.68649885, 0.68677612, 0.69097606, 0.69417019, 0.6949685 ,\n",
       "        0.69536942, 0.69568869, 0.69585342, 0.696435  , 0.69770539,\n",
       "        0.69923122, 0.7013304 , 0.70491213, 0.70718531, 0.71119075,\n",
       "        0.71495504, 0.71542935, 0.72067088, 0.72113054, 0.72159342,\n",
       "        0.72258874, 0.72362583, 0.72394767, 0.72547021, 0.73005791,\n",
       "        0.73442067, 0.7395772 , 0.7406841 , 0.74089312, 0.7431688 ,\n",
       "        0.7440873 , 0.74575471, 0.74840972, 0.74915775, 0.75105694,\n",
       "        0.75547325, 0.76197294, 0.76202814, 0.7626801 , 0.76308204,\n",
       "        0.76384031, 0.76417051, 0.7683842 , 0.77024801, 0.77028799,\n",
       "        0.77063971, 0.7712261 , 0.7717504 , 0.7794797 , 0.78062428,\n",
       "        0.78070273, 0.78109385, 0.78339415, 0.78511338, 0.78576689,\n",
       "        0.78635987, 0.79197845, 0.79881216, 0.80537383, 0.81272971,\n",
       "        0.81481648, 0.81784583, 0.82120265, 0.82430092, 0.83332856,\n",
       "        0.83581681, 0.83890464, 0.8401002 , 0.8408803 , 0.84152951,\n",
       "        0.84383301, 0.84461232, 0.84611629, 0.84632776, 0.8475759 ,\n",
       "        0.84842407, 0.85146659, 0.85499371, 0.85720503, 0.85722359,\n",
       "        0.85741523, 0.8603093 , 0.86112502, 0.86368325, 0.86577741,\n",
       "        0.86627459, 0.86706921, 0.86749884, 0.86821437, 0.86993799,\n",
       "        0.87058863, 0.87245208, 0.87302206, 0.87402658, 0.8760084 ,\n",
       "        0.87912609, 0.88498687, 0.88505677, 0.8879085 , 0.88825011,\n",
       "        0.88925322, 0.88929448, 0.89186805, 0.89190755, 0.89443336,\n",
       "        0.89447175, 0.89674584, 0.89967916, 0.90139059, 0.901408  ,\n",
       "        0.90226012, 0.90252119, 0.90280588, 0.90774595, 0.90788437,\n",
       "        0.912222  , 0.91259169, 0.91351401, 0.91356586, 0.91737179,\n",
       "        0.91834817, 0.91863025, 0.91935101, 0.92019719, 0.92075011,\n",
       "        0.92160551, 0.92628613, 0.92926964, 0.93148294, 0.93166534,\n",
       "        0.93251638, 0.93384937, 0.93861148, 0.93875531, 0.9397719 ,\n",
       "        0.94086788, 0.94101327, 0.94299742, 0.94926196, 0.94965291,\n",
       "        0.95172017, 0.95207945, 0.95209026, 0.95211105, 0.95398657,\n",
       "        0.95509589, 0.95545565, 0.95794689, 0.95800526, 0.95894953,\n",
       "        0.95908459, 0.96070048, 0.96515733, 0.97213234, 0.97415516,\n",
       "        0.97472716, 0.97600003, 0.97783305, 0.9788857 , 0.98094581,\n",
       "        0.98137008, 0.98254753, 0.98339621, 0.98348656, 0.98488298,\n",
       "        0.9862585 , 0.98745225, 0.98844428, 0.98930743, 0.98975914,\n",
       "        0.99003143, 0.99041948, 0.99235466, 0.99453225, 0.99622268,\n",
       "        0.99730633, 0.99877602, 0.99931945, 1.00212986, 1.00217997,\n",
       "        1.00496468, 1.00510568, 1.00701587, 1.01108812, 1.01141649,\n",
       "        1.01361739, 1.02488755, 1.02652048, 1.02789718, 1.02850739,\n",
       "        1.03175273, 1.03441019, 1.03674816, 1.0374957 , 1.03816515,\n",
       "        1.03971435, 1.04141591, 1.04326252, 1.0461355 , 1.04790152,\n",
       "        1.0485636 , 1.05480427, 1.05648246, 1.05666732, 1.05731611,\n",
       "        1.05830991, 1.05835494, 1.05845096, 1.05927426, 1.06026207,\n",
       "        1.06131641, 1.06178434, 1.06204429, 1.06268671, 1.06317656,\n",
       "        1.06498658, 1.06589683, 1.06842385, 1.07026045, 1.07391248,\n",
       "        1.07392631, 1.07488747, 1.07530838, 1.0763853 , 1.07754517,\n",
       "        1.07781307, 1.07826658, 1.08116103, 1.08543418, 1.08546258,\n",
       "        1.08552969, 1.08590402, 1.0864395 , 1.08881462, 1.08911734,\n",
       "        1.08981023, 1.0925597 , 1.09436989, 1.09437433, 1.09487466,\n",
       "        1.09488993, 1.09686215, 1.10106964, 1.10155328, 1.10258773,\n",
       "        1.10267007, 1.10421277, 1.10815997, 1.10846343, 1.11056874,\n",
       "        1.11535786, 1.11557098, 1.11571402, 1.11701353, 1.11708486,\n",
       "        1.11799652, 1.12049281, 1.12266967, 1.12411965, 1.1254149 ,\n",
       "        1.12664616, 1.12722714, 1.12893176, 1.13199345, 1.13489562,\n",
       "        1.13556827, 1.1357784 , 1.1365959 , 1.13867771, 1.13914731,\n",
       "        1.1396149 , 1.14733447, 1.14820373, 1.15012626, 1.15188878,\n",
       "        1.15246262, 1.15653387, 1.15767078, 1.16063173, 1.1639601 ,\n",
       "        1.16564975, 1.16669832, 1.16754965, 1.16770171, 1.1692889 ,\n",
       "        1.16931107, 1.17370141, 1.17508925, 1.1752587 , 1.17534031,\n",
       "        1.17862964, 1.18000355, 1.18782225, 1.18960967, 1.19038735,\n",
       "        1.19049347, 1.1918937 , 1.1964463 , 1.19708138, 1.20022293,\n",
       "        1.20045875, 1.20096228, 1.20254098, 1.20387266, 1.20501407,\n",
       "        1.20608839, 1.20680844, 1.20793955, 1.21072736, 1.21203263,\n",
       "        1.21253858, 1.21345694, 1.21450453, 1.21460426, 1.21862143,\n",
       "        1.21967397, 1.22290409, 1.22370818, 1.22415352, 1.22490986,\n",
       "        1.22558273, 1.22653065, 1.22782743, 1.2282219 , 1.23054417,\n",
       "        1.23067831, 1.2315198 , 1.23170552, 1.23352045, 1.23438222,\n",
       "        1.23444962, 1.23449821, 1.23608508, 1.23668319, 1.24064692,\n",
       "        1.24124074, 1.24184191, 1.24359987, 1.24417651, 1.24630419,\n",
       "        1.2471713 , 1.24765851, 1.24824653, 1.24979747, 1.25148534,\n",
       "        1.25152353, 1.25306999, 1.25489408, 1.2559021 , 1.2578212 ,\n",
       "        1.26395467, 1.26540504, 1.26683843, 1.26746299, 1.27027592,\n",
       "        1.27103721, 1.27396617, 1.2740189 , 1.27471498, 1.27850869,\n",
       "        1.27894042, 1.28018101, 1.28094609, 1.28291013, 1.28300231,\n",
       "        1.28385137, 1.28440239, 1.28505013, 1.2852439 , 1.28839826,\n",
       "        1.2924443 , 1.29361235, 1.29437339, 1.29613778, 1.29696214,\n",
       "        1.29722335, 1.30052301, 1.30196481, 1.30241437, 1.30454528,\n",
       "        1.30505515, 1.30649972, 1.30735027, 1.30751954, 1.3083495 ,\n",
       "        1.30902868, 1.31249011, 1.31410378, 1.31439619, 1.31634414,\n",
       "        1.31839662, 1.3186218 , 1.32066558, 1.32103551, 1.3240627 ,\n",
       "        1.3248374 , 1.32487894, 1.32541755, 1.32808074, 1.32906693,\n",
       "        1.33364428, 1.33439194, 1.33834711, 1.33874809, 1.33937742,\n",
       "        1.33949255, 1.33993561, 1.34167925, 1.34288875, 1.34443223,\n",
       "        1.34752041, 1.34758138, 1.34836992, 1.3504365 , 1.35116033,\n",
       "        1.35176264, 1.3520699 , 1.35282524, 1.35460817, 1.35478839,\n",
       "        1.35555036, 1.3559757 , 1.35830158, 1.35834937, 1.35882431,\n",
       "        1.36281198, 1.36441678, 1.36487857, 1.36621239, 1.36744892,\n",
       "        1.36752161, 1.36839581, 1.37006302, 1.3706575 , 1.37148259,\n",
       "        1.37248416, 1.37754876, 1.37839387, 1.38170892, 1.38228536,\n",
       "        1.38479428, 1.38503507, 1.38607919, 1.38781694, 1.3889931 ,\n",
       "        1.38976287, 1.39057997, 1.3909636 , 1.39111484, 1.39453067,\n",
       "        1.4007635 , 1.40209379, 1.40260437, 1.4043653 , 1.40968058,\n",
       "        1.41018436, 1.41052753, 1.41126113, 1.41292874, 1.41764251,\n",
       "        1.41897043, 1.41897292, 1.41988891, 1.42013477, 1.42067274,\n",
       "        1.42084688, 1.42252522, 1.42265844, 1.42345869, 1.42568239,\n",
       "        1.43057711, 1.43074567, 1.43579187, 1.43788677, 1.43790361,\n",
       "        1.43902608, 1.43932146, 1.43941915, 1.43942859, 1.43963336,\n",
       "        1.44000375, 1.44096708, 1.44217908, 1.44285559, 1.4447277 ,\n",
       "        1.44515536, 1.44576227, 1.4475264 , 1.44816349, 1.45028612,\n",
       "        1.45051474, 1.45120699, 1.45293548, 1.45598005, 1.45705743,\n",
       "        1.4570679 , 1.459691  , 1.46223002, 1.46876973, 1.46989297,\n",
       "        1.47153294, 1.47401617, 1.47624729, 1.4766556 , 1.4788707 ,\n",
       "        1.47916213, 1.47969543, 1.48050119, 1.48267605, 1.48599569,\n",
       "        1.48674604, 1.48692053, 1.48737978, 1.48876819, 1.48926349,\n",
       "        1.49119069, 1.49150148, 1.49187864, 1.49196192, 1.49199861,\n",
       "        1.49222784, 1.4927224 , 1.49312668, 1.49351309, 1.49450233,\n",
       "        1.49492512, 1.49714982, 1.50177672, 1.5037042 , 1.50505563,\n",
       "        1.50645461, 1.51149114, 1.51177722, 1.5121168 , 1.51319863,\n",
       "        1.51497844, 1.5155709 , 1.51721559, 1.5177377 , 1.51855625,\n",
       "        1.51976664, 1.5233399 , 1.52393804, 1.52449054, 1.52510943,\n",
       "        1.525131  , 1.52567076, 1.52634616, 1.52791717, 1.52837882,\n",
       "        1.52902543, 1.52987608, 1.53067841, 1.53126942, 1.53174367,\n",
       "        1.53190381, 1.53254643, 1.53290554, 1.5343462 , 1.53452341,\n",
       "        1.5345273 , 1.53520658, 1.53550382, 1.53622719, 1.53728389,\n",
       "        1.53755181, 1.53810058, 1.53826437, 1.53875157, 1.54267125,\n",
       "        1.54386293, 1.54433074, 1.5448332 , 1.54560042, 1.5463455 ,\n",
       "        1.54688493, 1.54690576, 1.54773939, 1.5500287 , 1.5510069 ,\n",
       "        1.55136082, 1.55206138, 1.55223934, 1.55635612, 1.5564287 ,\n",
       "        1.55655965, 1.55793737, 1.56102659, 1.56252202, 1.563409  ,\n",
       "        1.56424342, 1.56593719, 1.56596136, 1.56666194, 1.57165864,\n",
       "        1.57301334, 1.57831759, 1.57886689, 1.57990299, 1.58147974,\n",
       "        1.58178377, 1.5835933 , 1.5839795 , 1.58600073, 1.59013959,\n",
       "        1.59124899, 1.59554698, 1.59684147, 1.59903948, 1.59987618,\n",
       "        1.60194029, 1.60315857, 1.60390605, 1.60503545, 1.60613148,\n",
       "        1.60639799, 1.60708759, 1.60727328, 1.60805536, 1.60934327,\n",
       "        1.60938538, 1.60957682, 1.61432718, 1.61579041, 1.61601734,\n",
       "        1.61630096, 1.61805571, 1.61837925, 1.61893938, 1.62232489,\n",
       "        1.62232957, 1.62379978, 1.62396309, 1.63169288, 1.63306674,\n",
       "        1.63517844, 1.6353055 , 1.63630418, 1.64212976, 1.64256036,\n",
       "        1.6443522 , 1.64675006, 1.64677783, 1.65069836, 1.6516164 ,\n",
       "        1.6530218 , 1.65622435, 1.65695532, 1.66166642, 1.66212764,\n",
       "        1.66234929, 1.66292723, 1.66866898, 1.67062422, 1.67128123,\n",
       "        1.67353488, 1.6764969 , 1.68028212, 1.68093026, 1.68187905,\n",
       "        1.68202068, 1.68298531, 1.68757496, 1.68926807, 1.68947532,\n",
       "        1.68956207, 1.68964653, 1.69824715, 1.69995783, 1.6999763 ,\n",
       "        1.70010494, 1.70028317, 1.70273553, 1.70510562, 1.70803693,\n",
       "        1.70962626, 1.71193085, 1.71337623, 1.71523718, 1.71570646,\n",
       "        1.72194739, 1.72265544, 1.72683966, 1.73146698, 1.73598864,\n",
       "        1.7365535 , 1.73801455, 1.73977454, 1.74098589, 1.74337731,\n",
       "        1.74430726, 1.74640698, 1.74661329, 1.74713071, 1.74792953,\n",
       "        1.75340605, 1.75473826, 1.75719541, 1.75861871, 1.75887259,\n",
       "        1.75992437, 1.75995433, 1.76075531, 1.76238699, 1.76300312,\n",
       "        1.76326081, 1.76496451, 1.76658507, 1.76724768, 1.76785537,\n",
       "        1.76830254, 1.76890406, 1.77026202, 1.77035644, 1.77198221,\n",
       "        1.77334768, 1.77337111, 1.77543686, 1.77601838, 1.77626424,\n",
       "        1.77716346, 1.7797871 , 1.78065267, 1.78391005, 1.78506256,\n",
       "        1.78674636, 1.78882135, 1.7919714 , 1.79395766, 1.79516819,\n",
       "        1.79736642, 1.80051062, 1.80427269, 1.80495487, 1.80742115,\n",
       "        1.80757399, 1.81682789, 1.81827913, 1.819059  , 1.81984603,\n",
       "        1.82034345, 1.82295367, 1.82954291, 1.83796452, 1.83975096,\n",
       "        1.84140256, 1.84321368, 1.84676115, 1.84889342, 1.85037178,\n",
       "        1.8561656 , 1.86244816, 1.86529374, 1.86645442, 1.86723744,\n",
       "        1.87231984, 1.87353249, 1.87632373, 1.87696445, 1.87747018,\n",
       "        1.87917123, 1.87954791, 1.88494667, 1.89211215, 1.89411126,\n",
       "        1.89446058, 1.89450628, 1.89500024, 1.89906933, 1.90177484,\n",
       "        1.90229226, 1.90617702, 1.9062387 , 1.90923519, 1.90926063,\n",
       "        1.91016947, 1.9135176 , 1.92029566, 1.92054593, 1.9235175 ,\n",
       "        1.92401751, 1.92437321, 1.92797415, 1.92894283, 1.93201309,\n",
       "        1.93282831, 1.9407304 , 1.94292223, 1.94578558, 1.94696455,\n",
       "        1.95263491, 1.9529994 , 1.95566058, 1.95620687, 1.96171603,\n",
       "        1.96346109, 1.96734814, 1.96753159, 1.96919507, 1.97149331,\n",
       "        1.97242313, 1.97563977, 1.97582831, 1.97795082, 1.97858399,\n",
       "        1.97859073, 1.97888368, 1.98612792, 1.98810127, 1.99908439,\n",
       "        2.00494007, 2.00621332, 2.00753702, 2.00931186, 2.00972256,\n",
       "        2.01140613, 2.01435584, 2.01973878, 2.01995661, 2.02066977,\n",
       "        2.02687381, 2.03318064, 2.03527856, 2.04341257, 2.04732528,\n",
       "        2.04965855, 2.04979519, 2.06396509, 2.06965919, 2.07079433,\n",
       "        2.0732916 , 2.08087608, 2.08153941, 2.08500225, 2.09068872,\n",
       "        2.09517962, 2.09598957, 2.09758207, 2.10095148, 2.11863166,\n",
       "        2.12065222, 2.12921453, 2.13241339, 2.13866432, 2.14567953,\n",
       "        2.14979835, 2.15077731, 2.1508226 , 2.15186314, 2.16660305,\n",
       "        2.16994043, 2.17064374, 2.18108459, 2.18606888, 2.21519153,\n",
       "        2.2178379 , 2.22049895, 2.24308216, 2.2500278 , 2.26745433,\n",
       "        2.2715148 , 2.27609198, 2.34389267, 2.37362211, 2.49044833]))"
      ]
     },
     "execution_count": 168,
     "metadata": {},
     "output_type": "execute_result"
    }
   ],
   "source": [
    "closest_EC_cells_3[0]"
   ]
  },
  {
   "cell_type": "code",
   "execution_count": 8,
   "metadata": {},
   "outputs": [],
   "source": [
    "np.random.seed(0)"
   ]
  },
  {
   "cell_type": "code",
   "execution_count": 32,
   "metadata": {},
   "outputs": [
    {
     "data": {
      "text/plain": [
       "4443880115439545674"
      ]
     },
     "execution_count": 32,
     "metadata": {},
     "output_type": "execute_result"
    }
   ],
   "source": [
    "np.random.seed(99999)\n",
    "hash(sim_coordinates(11, 3, 0, 1).tobytes())"
   ]
  },
  {
   "cell_type": "code",
   "execution_count": null,
   "metadata": {},
   "outputs": [],
   "source": []
  }
 ],
 "metadata": {
  "kernelspec": {
   "display_name": "Python 3",
   "language": "python",
   "name": "python3"
  },
  "language_info": {
   "codemirror_mode": {
    "name": "ipython",
    "version": 3
   },
   "file_extension": ".py",
   "mimetype": "text/x-python",
   "name": "python",
   "nbconvert_exporter": "python",
   "pygments_lexer": "ipython3",
   "version": "3.8.17"
  },
  "orig_nbformat": 4
 },
 "nbformat": 4,
 "nbformat_minor": 2
}
